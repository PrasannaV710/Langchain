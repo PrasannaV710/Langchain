{
 "cells": [
  {
   "cell_type": "code",
   "execution_count": 1,
   "metadata": {},
   "outputs": [],
   "source": [
    "from langchain.llms import OpenAI"
   ]
  },
  {
   "cell_type": "code",
   "execution_count": 36,
   "metadata": {},
   "outputs": [],
   "source": [
    "llm=OpenAI(temperature=0.7)"
   ]
  },
  {
   "cell_type": "code",
   "execution_count": 8,
   "metadata": {},
   "outputs": [
    {
     "name": "stdout",
     "output_type": "stream",
     "text": [
      "\n",
      "\n",
      "Karl Marx (1818-1883) was a German philosopher, economist, and political theorist who is best known for his influential theories on socialism and communism. He co-authored The Communist Manifesto with Friedrich Engels and his writings on political economy and class struggle have had a lasting impact on the fields of economics, sociology, and political science. His ideas have been both praised and criticized, and he continues to be a controversial figure in political and academic discussions. \n"
     ]
    }
   ],
   "source": [
    "text=\"Who is Karl Marx\"\n",
    "\n",
    "print(llm.predict(text))"
   ]
  },
  {
   "cell_type": "code",
   "execution_count": 9,
   "metadata": {},
   "outputs": [],
   "source": [
    "os.environ['HUGGINGFACEHUB_API_TOKEN']=''"
   ]
  },
  {
   "cell_type": "code",
   "execution_count": 11,
   "metadata": {},
   "outputs": [],
   "source": [
    "from langchain import HuggingFaceHub\n",
    "llm_huggingface=HuggingFaceHub(repo_id=\"google/flan-t5-large\",model_kwargs={\"temperature\":0,\"max_length\":64})"
   ]
  },
  {
   "cell_type": "code",
   "execution_count": 13,
   "metadata": {},
   "outputs": [
    {
     "name": "stdout",
     "output_type": "stream",
     "text": [
      "cape town\n"
     ]
    }
   ],
   "source": [
    "output=llm_huggingface.predict(\"What is the capital of South Africa?\")\n",
    "print(output)"
   ]
  },
  {
   "cell_type": "code",
   "execution_count": 14,
   "metadata": {},
   "outputs": [
    {
     "data": {
      "text/plain": [
       "'Tell me the capital of India'"
      ]
     },
     "execution_count": 14,
     "metadata": {},
     "output_type": "execute_result"
    }
   ],
   "source": [
    "from langchain import PromptTemplate\n",
    "prompt_template=PromptTemplate(input_variables=['country'],\n",
    "                               template=\"Tell me the capital of {country}\")\n",
    "prompt_template.format(country=\"India\")"
   ]
  },
  {
   "cell_type": "code",
   "execution_count": 15,
   "metadata": {},
   "outputs": [],
   "source": [
    "from langchain.chains import LLMChain"
   ]
  },
  {
   "cell_type": "code",
   "execution_count": 16,
   "metadata": {},
   "outputs": [
    {
     "data": {
      "text/plain": [
       "'\\n\\nThe capital of Australia is Canberra.'"
      ]
     },
     "execution_count": 16,
     "metadata": {},
     "output_type": "execute_result"
    }
   ],
   "source": [
    "chain=LLMChain(llm=llm,prompt=prompt_template)\n",
    "chain.run(\"Australia\")"
   ]
  },
  {
   "cell_type": "code",
   "execution_count": 22,
   "metadata": {},
   "outputs": [
    {
     "data": {
      "text/plain": [
       "', North Carolina\\n\\n1. North Carolina Museum of Natural Sciences\\n2. Historic Yates Mill County Park\\n3. Pullen Park\\n4. North Carolina State Capitol\\n5. William B. Umstead State Park\\n6. JC Raulston Arboretum at North Carolina State University\\n7. Marbles Kids Museum\\n8. North Carolina Museum of History\\n9. Cameron Village Shopping Center\\n10. North Carolina Museum of Art\\n11. Raleigh Rose Garden\\n12. Lake Johnson Park\\n13. Dr. Martin Luther King Jr. Memorial Gardens\\n14. Neuse River Trail\\n15. Raleigh City Market\\n16. Historic Oakwood Cemetery\\n17. The State Farmers Market\\n18. Mordecai Historic Park\\n19. PNC Arena\\n20. North Carolina Executive Mansion.'"
      ]
     },
     "execution_count": 22,
     "metadata": {},
     "output_type": "execute_result"
    }
   ],
   "source": [
    "capital_template=PromptTemplate(input_variables=['country'],\n",
    "                                template=\"Tell me the capital of {country}\")\n",
    "capital_chain=LLMChain(llm=llm,prompt=capital_template)\n",
    "famous_template=PromptTemplate(input_variables=['capital'],\n",
    "                               template=\"Suggest some famous places to visit in {capital}\")\n",
    "famous_chain=LLMChain(llm=llm,prompt=famous_template)"
   ]
  },
  {
   "cell_type": "code",
   "execution_count": 23,
   "metadata": {},
   "outputs": [
    {
     "data": {
      "text/plain": [
       "\" Some famous places to visit in Olympia are:\\n\\n1. Washington State Capitol Building: This is the seat of government for the state of Washington and is a beautiful building with stunning architecture. Visitors can take a guided tour of the building and learn about the state's history and government.\\n\\n2. Olympic National Park: Located just a short drive from Olympia, Olympic National Park is a must-visit for nature lovers. It is home to diverse ecosystems including rainforests, beaches, and mountains, making it perfect for hiking, camping, and wildlife watching.\\n\\n3. Tumwater Falls Park: This picturesque park is located on the Deschutes River and features a stunning waterfall, walking trails, and picnic areas. It is a popular spot for outdoor activities and a great place to relax and enjoy the scenery.\\n\\n4. Hands On Children's Museum: This interactive museum is a great place to visit with kids. It offers a variety of hands-on exhibits and activities that promote learning and creativity.\\n\\n5. Percival Landing Park: This waterfront park is a popular spot for locals and tourists alike. It offers beautiful views of the Puget Sound, walking paths, public art, and a playground for children.\\n\\n6. Nisqually National Wildlife Refuge: Located just outside of Olympia, this refuge\""
      ]
     },
     "execution_count": 23,
     "metadata": {},
     "output_type": "execute_result"
    }
   ],
   "source": [
    "from langchain.chains import SimpleSequentialChain\n",
    "finalchain=SimpleSequentialChain(chains=[capital_chain,famous_chain])\n",
    "finalchain.run('Washington')"
   ]
  },
  {
   "cell_type": "code",
   "execution_count": 29,
   "metadata": {},
   "outputs": [],
   "source": [
    "from langchain.schema import HumanMessage, SystemMessage, AIMessage\n",
    "from langchain_openai import ChatOpenAI"
   ]
  },
  {
   "cell_type": "code",
   "execution_count": 30,
   "metadata": {},
   "outputs": [],
   "source": [
    "chatllm=ChatOpenAI(temperature=0.7)"
   ]
  },
  {
   "cell_type": "code",
   "execution_count": 31,
   "metadata": {},
   "outputs": [
    {
     "data": {
      "text/plain": [
       "AIMessage(content='Are you a magician? Because whenever I look at you, everyone else disappears.')"
      ]
     },
     "execution_count": 31,
     "metadata": {},
     "output_type": "execute_result"
    }
   ],
   "source": [
    "chatllm([\n",
    "    SystemMessage('You are comedian AI assitant'),\n",
    "    HumanMessage('Tell me a funny pickup line')\n",
    "])"
   ]
  },
  {
   "cell_type": "code",
   "execution_count": 33,
   "metadata": {},
   "outputs": [],
   "source": [
    "from langchain_openai import ChatOpenAI\n",
    "from langchain.prompts.chat import ChatPromptTemplate\n",
    "from langchain.schema import BaseOutputParser"
   ]
  },
  {
   "cell_type": "code",
   "execution_count": 50,
   "metadata": {},
   "outputs": [],
   "source": [
    "class CommaseparatedOutput(BaseOutputParser):\n",
    "    def parse(self,text:str):\n",
    "        return text.strip().split(\",\")"
   ]
  },
  {
   "cell_type": "code",
   "execution_count": 54,
   "metadata": {},
   "outputs": [],
   "source": [
    "template=\"You are an English Professor. Whenever user gives a sentence translate it into Old English\"\n",
    "human_template=\"{text}\"\n",
    "chatpromt=ChatPromptTemplate.from_messages([\n",
    "    (\"system\",template),\n",
    "    (\"human\",human_template)\n",
    "])"
   ]
  },
  {
   "cell_type": "code",
   "execution_count": 55,
   "metadata": {},
   "outputs": [],
   "source": [
    "chain=chatpromt|chatllm|CommaseparatedOutput()"
   ]
  },
  {
   "cell_type": "code",
   "execution_count": 56,
   "metadata": {},
   "outputs": [
    {
     "data": {
      "text/plain": [
       "['Hū eart þū?']"
      ]
     },
     "execution_count": 56,
     "metadata": {},
     "output_type": "execute_result"
    }
   ],
   "source": [
    "chain.invoke({\"text\":\"How are you?\"})"
   ]
  },
  {
   "cell_type": "code",
   "execution_count": null,
   "metadata": {},
   "outputs": [],
   "source": []
  }
 ],
 "metadata": {
  "kernelspec": {
   "display_name": "Python 3",
   "language": "python",
   "name": "python3"
  },
  "language_info": {
   "codemirror_mode": {
    "name": "ipython",
    "version": 3
   },
   "file_extension": ".py",
   "mimetype": "text/x-python",
   "name": "python",
   "nbconvert_exporter": "python",
   "pygments_lexer": "ipython3",
   "version": "3.9.0"
  }
 },
 "nbformat": 4,
 "nbformat_minor": 2
}
